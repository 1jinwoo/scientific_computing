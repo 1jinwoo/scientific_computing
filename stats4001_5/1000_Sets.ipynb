{
 "cells": [
  {
   "cell_type": "code",
   "execution_count": 2,
   "metadata": {
    "collapsed": true
   },
   "outputs": [],
   "source": [
    "'''\n",
    "1000 sets of 5 normally distributed random variables\n",
    "'''\n",
    "\n",
    "import numpy as np"
   ]
  },
  {
   "cell_type": "markdown",
   "metadata": {},
   "source": [
    "## 1. 1000 sets of 5 normally distributed random variables"
   ]
  },
  {
   "cell_type": "code",
   "execution_count": 11,
   "metadata": {},
   "outputs": [
    {
     "data": {
      "text/plain": [
       "array([ 100.25110728,  100.01429052,  100.49871608,   99.9624644 ,\n",
       "        100.13771488,  100.08530797,   99.85868153,   99.97725989,\n",
       "         99.68776054,  100.25030996])"
      ]
     },
     "execution_count": 11,
     "metadata": {},
     "output_type": "execute_result"
    }
   ],
   "source": [
    "# variable = (mu, sigma)\n",
    "var1 = (0, 0.1)\n",
    "var2 = (1, 0.2)\n",
    "var3 = (3, 10)\n",
    "var4 = (5, 20)\n",
    "var5 = (100, 0.2)\n",
    "\n",
    "v1 = np.random.normal(*var1, 1000)\n",
    "v2 = np.random.normal(*var2, 1000)\n",
    "v3 = np.random.normal(*var3, 1000)\n",
    "v4 = np.random.normal(*var4, 1000)\n",
    "v5 = np.random.normal(*var5, 1000)\n",
    "\n",
    "# Showing first 10 elements of v5\n",
    "v5[0:10]"
   ]
  },
  {
   "cell_type": "code",
   "execution_count": 12,
   "metadata": {
    "collapsed": true
   },
   "outputs": [],
   "source": [
    "# (value - mean) / (std dev)\n",
    "def zscore(v):\n",
    "    '''\n",
    "    (value - mean) / (std dev)\n",
    "    '''\n",
    "    return (v - np.mean(v)) / (np.std(v))\n",
    "\n",
    "z1 = zscore(v1)\n",
    "z2 = zscore(v2)\n",
    "z3 = zscore(v3)\n",
    "z4 = zscore(v4)\n",
    "z5 = zscore(v5)"
   ]
  },
  {
   "cell_type": "code",
   "execution_count": 15,
   "metadata": {},
   "outputs": [],
   "source": [
    "# square each one and add them\n",
    "sq_sum = np.square(z1) + np.square(z2) + np.square(z3) + np.square(z4) + np.square(z5)"
   ]
  },
  {
   "cell_type": "code",
   "execution_count": 14,
   "metadata": {},
   "outputs": [
    {
     "data": {
      "image/png": "[encoded data removed]",
      "text/plain": [
       "<matplotlib.figure.Figure at 0x1bd43ea6d30>"
      ]
     },
     "metadata": {},
     "output_type": "display_data"
    }
   ],
   "source": [
    "import matplotlib.pyplot as plt\n",
    "\n",
    "n_pts = 1000\n",
    "n_bins = 200\n",
    "plt.hist(sq_sum, bins=n_bins)\n",
    "plt.xlabel('values')\n",
    "plt.ylabel('frequency')\n",
    "plt.title('Histogram of the 1000 Sets')\n",
    "plt.show()"
   ]
  },
  {
   "attachments": {},
   "cell_type": "markdown",
   "metadata": {},
   "source": [
    "## Conclusion\n",
    "Since above histogram greatly resembles, the below chi-square distribution (df = 5), we confirm that the histogram closely represents chi-square distribution with 5 degrees of freedom.\n",
    "![image.png](image/image.png)"
   ]
  }
 ],
 "metadata": {
  "kernelspec": {
   "display_name": "Python 3",
   "language": "python",
   "name": "python3"
  },
  "language_info": {
   "codemirror_mode": {
    "name": "ipython",
    "version": 3
   },
   "file_extension": ".py",
   "mimetype": "text/x-python",
   "name": "python",
   "nbconvert_exporter": "python",
   "pygments_lexer": "ipython3",
   "version": "3.6.3"
  }
 },
 "nbformat": 4,
 "nbformat_minor": 2
}
