{
 "cells": [
  {
   "cell_type": "code",
   "execution_count": 17,
   "metadata": {},
   "outputs": [
    {
     "name": "stdout",
     "output_type": "stream",
     "text": [
      "5.68295670595\n",
      "3.00628392966\n"
     ]
    }
   ],
   "source": [
    "import numpy as np\n",
    "import matplotlib.pyplot as plt\n",
    "from sklearn import linear_model\n",
    "\n",
    "def calculate_coef():\n",
    "    # y = 6x + 3 + E\n",
    "    # x = -3, -2, -1, 0, +1, +2, +3\n",
    "    \n",
    "    x = np.array([-3,-2,-1,0,1,2,3])\n",
    "    # Generate 7 y values\n",
    "    errors = np.random.normal(0, 1, 7)\n",
    "    y = 6 * x + 3 - errors\n",
    "    \n",
    "    regr = linear_model.LinearRegression()\n",
    "    x = x.reshape(-1, 1)\n",
    "    y = y.reshape(-1, 1)\n",
    "    regr.fit(x, y)\n",
    "    return regr.coef_[0][0]\n",
    "\n",
    "def calculate_intercept():\n",
    "    # y = 6x + 3 + E\n",
    "    # x = -3, -2, -1, 0, +1, +2, +3\n",
    "    \n",
    "    x = np.array([-3,-2,-1,0,1,2,3])\n",
    "    # Generate 7 y values\n",
    "    errors = np.random.normal(0, 1, 7)\n",
    "    y = 6 * x + 3 - errors\n",
    "    \n",
    "    regr = linear_model.LinearRegression()\n",
    "    x = x.reshape(-1, 1)\n",
    "    y = y.reshape(-1, 1)\n",
    "    regr.fit(x, y)\n",
    "    return regr.intercept_[0]\n",
    "\n",
    "print(calculate_coef())\n",
    "print(calculate_intercept())"
   ]
  },
  {
   "cell_type": "code",
   "execution_count": 27,
   "metadata": {},
   "outputs": [
    {
     "name": "stdout",
     "output_type": "stream",
     "text": [
      "[6.0001283723872776, 0.036716515542680961, 2.9787829760392355, 0.14341122790278304]\n"
     ]
    }
   ],
   "source": [
    "coefs = np.array([calculate_coef() for i in range(0, 1000)])\n",
    "intercepts = np.array([calculate_intercept() for i in range(0,1000)])\n",
    "print([coefs.mean(), coefs.var(), intercepts.mean(), intercepts.var()])"
   ]
  },
  {
   "cell_type": "code",
   "execution_count": 28,
   "metadata": {},
   "outputs": [
    {
     "data": {
      "image/png": "[encoded data removed]",
      "text/plain": [
       "<matplotlib.figure.Figure at 0x20cb58be160>"
      ]
     },
     "metadata": {},
     "output_type": "display_data"
    }
   ],
   "source": [
    "plt.hist(coefs)\n",
    "plt.xlabel('slopes')\n",
    "plt.ylabel('occurrences')\n",
    "plt.title('Histogram of Slopes')\n",
    "plt.show()"
   ]
  },
  {
   "cell_type": "code",
   "execution_count": 30,
   "metadata": {},
   "outputs": [
    {
     "data": {
      "image/png": "[encoded data removed]",
      "text/plain": [
       "<matplotlib.figure.Figure at 0x20cb594c390>"
      ]
     },
     "metadata": {},
     "output_type": "display_data"
    }
   ],
   "source": [
    "plt.hist(intercepts)\n",
    "plt.xlabel('intercepts')\n",
    "plt.ylabel('occurrences')\n",
    "plt.title('Histogram of Intercepts')\n",
    "plt.show()"
   ]
  },
  {
   "cell_type": "code",
   "execution_count": 32,
   "metadata": {},
   "outputs": [
    {
     "data": {
      "text/plain": [
       "array([ 21.57065857,  21.02280414,  21.21530106,  21.76825179,\n",
       "        19.95113579,  21.38956987,  22.1343473 ,  21.81302489,\n",
       "        20.48540723,  22.04154095,  20.35877341,  18.62165903,\n",
       "        20.55944165,  19.69508991,  21.45080408,  22.24515143,\n",
       "        21.3388004 ,  20.27366287,  21.51469448,  21.90594171,\n",
       "        21.23361406,  20.30200759,  20.74255624,  20.44777029,\n",
       "        22.37891625,  20.74377089,  21.32570508,  19.51954046,\n",
       "        19.89055107,  21.91626777,  21.44654175,  22.63335708,\n",
       "        21.91276493,  20.50419998,  21.80625382,  19.53947195,\n",
       "        21.84402854,  20.17657633,  20.7940195 ,  21.47899273,\n",
       "        19.07093777,  20.74955213,  21.95283479,  21.33625625,\n",
       "        21.81488835,  21.33283906,  21.30370915,  23.04463603,\n",
       "        22.66554138,  19.94352283,  19.22568843,  21.24358946,\n",
       "        20.49842123,  19.48762558,  21.82575145,  20.74067372,\n",
       "        18.79519634,  21.98343968,  18.12341444,  22.21302167,\n",
       "        22.15995745,  20.10086633,  21.86091863,  20.85332423,\n",
       "        21.21295266,  22.67631844,  19.39338861,  20.8978582 ,\n",
       "        20.56272458,  21.5721713 ,  21.07832825,  21.19423786,\n",
       "        22.45539033,  22.22684813,  21.97284107,  21.75472479,\n",
       "        20.71747816,  19.91335191,  22.09286853,  21.64016843,\n",
       "        20.38235867,  20.14666107,  20.81635657,  21.93461732,\n",
       "        21.15403254,  21.0980104 ,  21.09830626,  19.94293078,\n",
       "        18.9850945 ,  20.37098479,  22.72632393,  19.40625081,\n",
       "        21.0539874 ,  21.02062533,  21.24803974,  19.28518718,\n",
       "        21.82931171,  23.5733343 ,  20.78038921,  21.33212011,\n",
       "        21.28850931,  19.92965396,  21.57543917,  21.68105074,\n",
       "        20.32751469,  21.81938886,  22.4219483 ,  20.62959732,\n",
       "        19.93669846,  22.1203891 ,  21.63040401,  22.10721395,\n",
       "        19.52499186,  21.60456148,  20.78590001,  21.99173428,\n",
       "        20.98518848,  20.72556285,  20.79415524,  19.51261262,\n",
       "        21.99105968,  21.87499137,  20.7358946 ,  21.14712397,\n",
       "        21.66438649,  21.8291327 ,  20.85150584,  20.68891452,\n",
       "        20.71476752,  21.27410119,  22.40711632,  19.63310467,\n",
       "        21.67002916,  20.41497012,  19.76649777,  21.98527348,\n",
       "        21.02751409,  20.65044349,  19.95994227,  20.67932813,\n",
       "        23.69615929,  20.1014052 ,  20.07704482,  19.42998667,\n",
       "        21.23319864,  20.6247266 ,  19.712383  ,  20.16789681,\n",
       "        19.61665546,  20.94689711,  21.49073971,  21.4619374 ,\n",
       "        23.87270901,  19.40544597,  20.4910192 ,  20.95068881,\n",
       "        23.16484504,  21.80093319,  20.28253165,  20.38979501,\n",
       "        19.45523161,  19.54257896,  19.6189082 ,  20.05959458,\n",
       "        19.71204999,  21.49020872,  21.4863099 ,  20.56208456,\n",
       "        21.07989619,  22.19128035,  19.73506135,  21.44047692,\n",
       "        21.14600603,  20.09072175,  22.29256037,  20.83679212,\n",
       "        20.44724356,  19.07147785,  21.36533379,  20.0043044 ,\n",
       "        21.71577347,  21.61620836,  21.29692057,  21.24614755,\n",
       "        21.02964617,  21.40648497,  19.81630721,  22.07218369,\n",
       "        20.99657459,  21.45207031,  23.19870642,  20.56480446,\n",
       "        21.28395614,  21.62368382,  22.06048028,  21.14091358,\n",
       "        20.03384836,  19.76196436,  22.9069693 ,  20.17109467,\n",
       "        21.68841152,  20.94465002,  21.90221656,  19.93864031,\n",
       "        21.63688068,  20.58881679,  19.40452128,  20.49156263,\n",
       "        20.44642611,  19.14009071,  21.34522432,  22.60220757,\n",
       "        19.53989582,  21.31439815,  23.08348185,  20.93787976,\n",
       "        19.43358574,  20.67271756,  21.90051944,  21.03599473,\n",
       "        19.27831437,  20.10324793,  20.06313021,  20.36147854,\n",
       "        21.8684761 ,  21.20207841,  21.15088814,  20.92795458,\n",
       "        21.41489326,  20.75437683,  22.79889908,  21.69936752,\n",
       "        20.40589669,  21.6120897 ,  19.45601609,  21.51754419,\n",
       "        21.78151402,  20.56407297,  20.6948183 ,  20.32694354,\n",
       "        22.5216721 ,  21.99295656,  20.85633825,  21.90066525,\n",
       "        21.84650709,  20.87660223,  20.12844816,  20.32966627,\n",
       "        20.14226739,  20.10000123,  19.54614892,  20.25261368,\n",
       "        19.49510501,  21.7864277 ,  20.66985803,  22.90183961,\n",
       "        21.54370709,  20.50625597,  20.74427889,  20.21680495,\n",
       "        20.51455651,  20.29214567,  20.08871006,  19.58304519,\n",
       "        21.62886046,  22.85617252,  20.17931805,  20.50184185,\n",
       "        21.00034793,  21.24088567,  22.35583288,  21.97775813,\n",
       "        20.36798914,  21.08279795,  18.76689159,  20.61706919,\n",
       "        19.59080551,  22.33833157,  20.55009402,  21.21326475,\n",
       "        21.08033962,  19.6309305 ,  20.69917668,  20.63731201,\n",
       "        20.84321455,  19.09622435,  20.99839765,  20.17138214,\n",
       "        23.14612874,  20.53142803,  19.88461563,  21.03745443,\n",
       "        20.99616152,  20.72781113,  21.69087961,  21.80100668,\n",
       "        22.31128414,  21.96138914,  19.76961476,  20.56718839,\n",
       "        20.01994299,  21.24732834,  18.94692394,  20.98790339,\n",
       "        21.1334511 ,  20.29439005,  21.51825562,  23.06079805,\n",
       "        21.78268207,  22.1400509 ,  21.93479655,  21.58286686,\n",
       "        19.78902833,  20.14445138,  21.09449665,  20.78805579,\n",
       "        20.68354184,  21.75068492,  21.11934643,  21.5630691 ,\n",
       "        21.75366696,  22.06005547,  19.80319058,  19.58380633,\n",
       "        19.54987619,  23.5517957 ,  20.05711336,  22.834373  ,\n",
       "        21.90962359,  20.10137691,  22.32762759,  22.62566796,\n",
       "        20.96763133,  18.7652638 ,  22.93596314,  22.36092822,\n",
       "        21.64135559,  20.59735031,  21.25864311,  21.05588531,\n",
       "        21.66119043,  20.72870254,  22.01182747,  18.73508125,\n",
       "        21.2704538 ,  21.32887014,  20.37511402,  20.45189481,\n",
       "        21.28520192,  20.68390503,  21.74902661,  18.93804459,\n",
       "        20.51601465,  22.43424654,  19.66042657,  19.83198065,\n",
       "        20.91818216,  22.47091686,  22.55476632,  21.6551948 ,\n",
       "        20.66596401,  20.84082628,  21.68751845,  21.35490689,\n",
       "        19.79357578,  21.63593137,  21.18940491,  20.63266798,\n",
       "        21.14519995,  22.20806301,  22.06251005,  20.97236028,\n",
       "        22.16235053,  20.46438423,  20.60548009,  20.84534964,\n",
       "        20.40738984,  20.4512565 ,  20.62191947,  21.19416095,\n",
       "        22.30773507,  20.29820313,  20.41955063,  20.80768914,\n",
       "        20.76208458,  18.69336181,  20.53508063,  21.61184609,\n",
       "        20.82468763,  21.14344475,  20.19318308,  20.95495805,\n",
       "        20.99359245,  22.46711813,  20.43462446,  20.87265553,\n",
       "        19.33806187,  20.82443941,  21.41329801,  20.82967322,\n",
       "        18.52004951,  19.30450961,  20.78406862,  19.77849629,\n",
       "        21.52637731,  20.43056266,  20.35096233,  20.89565633,\n",
       "        20.14905902,  21.57771069,  19.76412572,  20.27135416,\n",
       "        20.85577415,  20.46754841,  20.09665796,  21.45027596,\n",
       "        21.57041131,  20.34518626,  20.96640392,  21.57143945,\n",
       "        21.50325454,  20.786832  ,  20.57982265,  19.67943158,\n",
       "        21.57844047,  19.92502034,  19.96247881,  20.33227641,\n",
       "        21.42740115,  19.88757983,  21.08479542,  21.48879106,\n",
       "        21.00574589,  21.89599473,  20.01760335,  20.57030093,\n",
       "        20.85295377,  20.50656965,  20.14064558,  21.67375913,\n",
       "        20.97358338,  21.76897926,  19.82684788,  21.06170081,\n",
       "        19.30959079,  19.95978597,  21.45344841,  19.50340381,\n",
       "        19.90256702,  21.05071648,  21.69634352,  20.52210696,\n",
       "        20.25799697,  19.86328767,  21.28932108,  23.39365012,\n",
       "        20.35871201,  21.39845842,  21.40777557,  20.70555806,\n",
       "        20.18335337,  21.25179446,  21.11659543,  19.94273704,\n",
       "        21.42065195,  21.87274938,  20.22743075,  19.99121509,\n",
       "        22.91586705,  20.02213625,  20.40732962,  19.71374365,\n",
       "        23.38170246,  20.47464057,  21.79241141,  19.8332645 ,\n",
       "        21.06307989,  20.4009056 ,  19.39480141,  21.03116422,\n",
       "        22.01577477,  21.33991831,  20.05282932,  21.12759907,\n",
       "        22.87036739,  20.14007149,  21.72541435,  22.70615025,\n",
       "        22.05993744,  22.02523721,  20.82307254,  20.49427399,\n",
       "        20.57451324,  21.19140372,  22.06708327,  20.83599989,\n",
       "        19.628508  ,  19.57366449,  20.58776784,  21.9942285 ,\n",
       "        21.75378954,  19.10462664,  21.9614115 ,  19.06759971,\n",
       "        21.09659072,  21.57503997,  20.2428203 ,  21.0409742 ,\n",
       "        19.47085641,  20.72125431,  20.0010046 ,  21.22895945,\n",
       "        22.20186287,  20.9140855 ,  22.13402471,  20.70978058,\n",
       "        21.2681375 ,  22.81564067,  20.25468958,  21.03255769,\n",
       "        21.63320072,  22.10227445,  21.72912848,  21.06677403,\n",
       "        21.08244597,  19.99222672,  21.00551273,  22.9606753 ,\n",
       "        20.65723018,  21.30043059,  21.42485303,  20.9773609 ,\n",
       "        19.4666766 ,  22.85780768,  21.33037812,  19.9031446 ,\n",
       "        20.40256978,  22.98335848,  20.69229651,  22.90570549,\n",
       "        20.51614244,  18.70135502,  20.61152132,  21.50150832,\n",
       "        21.48665796,  21.72245824,  22.07955559,  21.45730892,\n",
       "        20.65149513,  21.01827468,  19.86203866,  21.38754541,\n",
       "        20.72029256,  21.98896785,  21.56151044,  20.95743474,\n",
       "        19.13141506,  20.60879429,  19.83448814,  20.14328526,\n",
       "        20.78729978,  19.98622631,  21.26251445,  21.47807315,\n",
       "        20.46715377,  22.11801346,  19.38588466,  22.50709319,\n",
       "        21.65515   ,  20.00243236,  20.85469515,  20.8222705 ,\n",
       "        20.16637826,  21.53253921,  20.46495947,  21.38771651,\n",
       "        19.84019063,  23.45014185,  21.24052985,  20.29225544,\n",
       "        20.53759598,  20.93292068,  21.83130656,  20.17414266,\n",
       "        22.26271668,  20.98739917,  22.02577703,  21.37150123,\n",
       "        19.24969788,  22.40116865,  19.80085487,  19.39774712,\n",
       "        20.62108113,  21.91958959,  22.06476749,  21.63729062,\n",
       "        21.38248589,  22.46421087,  20.69113688,  21.62120884,\n",
       "        20.36842503,  22.46035808,  20.54874887,  20.74011942,\n",
       "        22.41121028,  21.71636388,  20.99984045,  21.36587212,\n",
       "        21.22954446,  22.60048606,  20.45608694,  21.51321354,\n",
       "        20.15844941,  20.44267112,  21.10199093,  19.86589853,\n",
       "        21.50452787,  20.86397417,  20.79517474,  20.27303199,\n",
       "        22.62268989,  22.10450384,  20.81064987,  20.66197006,\n",
       "        21.97846654,  20.11948642,  20.20004103,  22.02844585,\n",
       "        21.99255842,  21.19561834,  20.58148337,  20.64212143,\n",
       "        23.32613003,  22.03863005,  23.74357181,  20.04335728,\n",
       "        19.41159924,  21.28876116,  22.85606372,  23.23437587,\n",
       "        21.49815366,  22.18585118,  20.53750723,  20.0543542 ,\n",
       "        19.39545423,  20.09546561,  21.11348339,  20.20443993,\n",
       "        20.95224411,  21.5291511 ,  19.89821732,  20.48373065,\n",
       "        20.20779431,  20.21001416,  18.06873571,  19.3608842 ,\n",
       "        20.26192444,  21.67413037,  21.47559489,  21.17109844,\n",
       "        20.87680634,  20.75090484,  20.31678494,  22.58227984,\n",
       "        18.89953164,  19.09978326,  19.88925712,  22.07892713,\n",
       "        20.78351875,  17.82510806,  21.4861989 ,  20.26040545,\n",
       "        22.69472224,  19.68228292,  22.01348526,  20.45249516,\n",
       "        20.79312684,  20.93244149,  20.85966618,  19.93947529,\n",
       "        19.4694864 ,  19.84093031,  20.87513254,  20.32558732,\n",
       "        22.28541645,  21.64947738,  21.68191772,  20.86581103,\n",
       "        21.32367079,  20.55788444,  19.47322352,  21.79491907,\n",
       "        20.56316379,  20.87319296,  24.45317048,  20.73874501,\n",
       "        20.52337024,  20.19562218,  20.81675973,  21.7712465 ,\n",
       "        20.55713688,  22.32465681,  20.95295827,  21.87373097,\n",
       "        20.42896984,  21.59689119,  20.81284379,  18.95307687,\n",
       "        21.29386048,  18.96151719,  21.74666888,  22.8379512 ,\n",
       "        19.49842565,  22.4416314 ,  20.86582511,  20.55165208,\n",
       "        18.89873906,  21.2690902 ,  22.40073705,  21.98553489,\n",
       "        21.72976662,  21.86654138,  20.12452759,  20.48518635,\n",
       "        19.32726396,  20.99452874,  23.14808424,  19.60392489,\n",
       "        20.07282332,  20.26915033,  21.03169885,  21.20464195,\n",
       "        21.70135877,  23.27579771,  21.02751841,  20.59569236,\n",
       "        20.20328482,  21.20339457,  21.89346028,  19.52550479,\n",
       "        20.45883039,  21.18607521,  20.68156905,  21.65255696,\n",
       "        21.19722903,  21.36067227,  21.64844951,  18.39511162,\n",
       "        19.76874859,  19.75523724,  19.70567897,  20.45725638,\n",
       "        20.60260308,  22.42775194,  20.81708469,  20.52964171,\n",
       "        21.51704369,  21.38812384,  23.54805744,  19.70105623,\n",
       "        20.72987479,  22.29246584,  21.42409115,  20.00070718,\n",
       "        18.21756326,  22.34902403,  19.57584518,  21.43075679,\n",
       "        22.12054736,  21.93950471,  21.27112402,  20.49499455,\n",
       "        21.23369275,  22.0168635 ,  20.85289047,  19.36594135,\n",
       "        21.50625476,  21.6172678 ,  22.51174454,  21.68937206,\n",
       "        21.38556161,  21.11246794,  20.31618842,  21.25394126,\n",
       "        20.76496723,  22.19256727,  20.9254523 ,  18.58225457,\n",
       "        19.85012356,  20.57333939,  18.96021177,  21.7556775 ,\n",
       "        22.46148228,  19.96942315,  20.21461901,  20.76320208,\n",
       "        20.32757562,  20.05294746,  21.71702146,  19.8207181 ,\n",
       "        20.95763186,  21.14014294,  21.11290963,  20.30982708,\n",
       "        20.1604951 ,  19.80193241,  20.2432938 ,  19.85445359,\n",
       "        21.74336649,  20.66880537,  17.88782635,  20.41899848,\n",
       "        21.23571323,  21.68340831,  20.28750308,  21.25936608,\n",
       "        22.31349916,  20.32184702,  21.03613079,  19.53191459,\n",
       "        19.22826267,  20.33862133,  20.17601732,  20.18516569,\n",
       "        22.79994927,  21.18862801,  20.67821153,  21.10250891,\n",
       "        20.21390154,  21.43989949,  21.95305068,  21.23250673,\n",
       "        20.58728264,  21.18813611,  19.97411455,  21.74129824,\n",
       "        20.56554273,  21.08306103,  20.31501841,  22.04545859,\n",
       "        20.11803026,  20.83975302,  21.46682805,  21.53553397,\n",
       "        19.97117405,  21.45548571,  21.21485582,  20.04304396,\n",
       "        21.08151279,  20.08888695,  21.25202684,  21.82966243,\n",
       "        19.54164247,  20.42317037,  19.73494115,  21.93747808,\n",
       "        21.18058777,  22.66040695,  19.42523224,  21.77856901,\n",
       "        21.63805846,  21.76006639,  21.3610483 ,  22.48211355,\n",
       "        19.95121855,  21.37858357,  20.84032105,  21.41745833,\n",
       "        21.03497592,  20.49998601,  22.38498096,  21.67560096,\n",
       "        20.04437207,  19.52763751,  20.45567052,  21.30005636,\n",
       "        19.05994613,  21.53588879,  20.61391771,  21.93710396,\n",
       "        21.0511237 ,  20.66724411,  20.00694628,  20.45255721,\n",
       "        21.33433888,  21.31757594,  21.03175749,  21.99154177,\n",
       "        21.80215716,  22.21522015,  20.56630493,  22.80973633,\n",
       "        23.06241011,  21.57942439,  22.09289972,  20.18766127,\n",
       "        21.42627246,  20.24256643,  21.65213493,  20.12553143,\n",
       "        21.94200117,  21.80475802,  20.68807166,  22.09830455,\n",
       "        18.55119957,  21.31143305,  21.91277305,  18.11472365,\n",
       "        19.90924815,  19.99142305,  21.06946274,  22.43011629,\n",
       "        23.22156964,  18.47799351,  20.57045715,  23.25445861,\n",
       "        19.64808514,  19.90488002,  20.77302533,  20.25291294,\n",
       "        20.26982319,  22.03415584,  21.32120675,  22.16001285,\n",
       "        22.19328554,  20.00760919,  20.24723663,  21.11715304,\n",
       "        20.99879827,  20.32040335,  22.94158229,  20.48553757,\n",
       "        19.78336866,  18.88482599,  21.91972141,  20.66935331,\n",
       "        22.37386263,  19.61249991,  20.85518648,  20.97797118,\n",
       "        19.18695766,  21.29097491,  21.14471476,  21.60067899,\n",
       "        20.33272696,  21.01929325,  21.60101898,  19.75265348,\n",
       "        21.98361907,  21.53234329,  21.30103341,  21.74777516,\n",
       "        20.57681652,  21.52099725,  20.93768002,  21.09967318,\n",
       "        19.89326046,  20.63883064,  20.63455091,  21.14774353,\n",
       "        19.50459369,  19.88327555,  21.55743488,  19.50484458,\n",
       "        21.79204452,  23.95311681,  20.49440159,  21.26331118,\n",
       "        22.72822801,  20.82710556,  21.67722288,  20.02953786,\n",
       "        20.74419207,  22.04868775,  22.10038702,  20.12701592,\n",
       "        21.48478401,  20.2846945 ,  22.45813159,  22.20496531,\n",
       "        20.33796942,  22.16963163,  21.8014165 ,  21.51107553,\n",
       "        20.75950185,  21.06977708,  20.11084346,  21.26876135,\n",
       "        21.80621629,  21.3144268 ,  20.38240004,  19.86132766,\n",
       "        22.32784665,  21.29896715,  19.90878338,  22.59406297,\n",
       "        19.77450451,  23.29509768,  22.47078268,  21.56233482])"
      ]
     },
     "execution_count": 32,
     "metadata": {},
     "output_type": "execute_result"
    }
   ],
   "source": [
    "y_val = 6*3 + 3 + np.random.normal(0,1,1000)\n",
    "y_val"
   ]
  },
  {
   "cell_type": "code",
   "execution_count": 34,
   "metadata": {},
   "outputs": [
    {
     "data": {
      "image/png": "[encoded data removed]",
      "text/plain": [
       "<matplotlib.figure.Figure at 0x20cb5a5e048>"
      ]
     },
     "metadata": {},
     "output_type": "display_data"
    }
   ],
   "source": [
    "plt.hist(y_val)\n",
    "plt.xlabel('y')\n",
    "plt.ylabel('occurrences')\n",
    "plt.title('Histogram of y when x = 3')\n",
    "plt.show()"
   ]
  },
  {
   "cell_type": "code",
   "execution_count": 35,
   "metadata": {},
   "outputs": [
    {
     "data": {
      "image/png": "[encoded data removed]",
      "text/plain": [
       "<matplotlib.figure.Figure at 0x20cb5add550>"
      ]
     },
     "metadata": {},
     "output_type": "display_data"
    }
   ],
   "source": [
    "y_val = 3 + np.random.normal(0,1,1000)\n",
    "plt.hist(y_val)\n",
    "plt.xlabel('y')\n",
    "plt.ylabel('occurrences')\n",
    "plt.title('Histogram of y when x = 0')\n",
    "plt.show()"
   ]
  },
  {
   "cell_type": "code",
   "execution_count": null,
   "metadata": {
    "collapsed": true
   },
   "outputs": [],
   "source": []
  }
 ],
 "metadata": {
  "kernelspec": {
   "display_name": "Python 3",
   "language": "python",
   "name": "python3"
  },
  "language_info": {
   "codemirror_mode": {
    "name": "ipython",
    "version": 3
   },
   "file_extension": ".py",
   "mimetype": "text/x-python",
   "name": "python",
   "nbconvert_exporter": "python",
   "pygments_lexer": "ipython3",
   "version": "3.6.3"
  }
 },
 "nbformat": 4,
 "nbformat_minor": 2
}
